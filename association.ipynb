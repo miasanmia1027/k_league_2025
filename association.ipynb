{
 "cells": [
  {
   "cell_type": "markdown",
   "metadata": {},
   "source": [
    "# 내가 지금 하려는 것\n",
    "- 연관성 분석 즉 Assoiciation Analysis 해볼려고"
   ]
  },
  {
   "cell_type": "code",
   "execution_count": null,
   "metadata": {},
   "outputs": [
    {
     "name": "stdout",
     "output_type": "stream",
     "text": [
      "강원\n",
      "    label data  points\n",
      "0      득점    3       4\n",
      "1      도움    2       4\n",
      "2      슈팅   30       4\n",
      "3    유효슈팅   12       4\n",
      "4  블락된 슈팅    5       4\n",
      "광주\n",
      "    label data  points\n",
      "0      득점    4       6\n",
      "1      도움    2       6\n",
      "2      슈팅   26       6\n",
      "3    유효슈팅    9       6\n",
      "4  블락된 슈팅    7       6\n",
      "김천\n",
      "    label data  points\n",
      "0      득점    4       4\n",
      "1      도움    1       4\n",
      "2      슈팅   27       4\n",
      "3    유효슈팅   10       4\n",
      "4  블락된 슈팅    5       4\n",
      "대구\n",
      "    label data  points\n",
      "0      득점    5       1\n",
      "1      도움    2       1\n",
      "2      슈팅   46       1\n",
      "3    유효슈팅   12       1\n",
      "4  블락된 슈팅    7       1\n",
      "대전\n",
      "    label data  points\n",
      "0      득점    4       7\n",
      "1      도움    2       7\n",
      "2      슈팅   33       7\n",
      "3    유효슈팅   10       7\n",
      "4  블락된 슈팅   10       7\n",
      "서울\n",
      "    label data  points\n",
      "0      득점    2       4\n",
      "1      도움    2       4\n",
      "2      슈팅   34       4\n",
      "3    유효슈팅    7       4\n",
      "4  블락된 슈팅    6       4\n",
      "수원FC\n",
      "    label data  points\n",
      "0      득점    1       3\n",
      "1      도움    1       3\n",
      "2      슈팅   21       3\n",
      "3    유효슈팅    6       3\n",
      "4  블락된 슈팅    5       3\n",
      "울산\n",
      "    label data  points\n",
      "0      득점    3       6\n",
      "1      도움    3       6\n",
      "2      슈팅   43       6\n",
      "3    유효슈팅    9       6\n",
      "4  블락된 슈팅   13       6\n",
      "안양\n",
      "    label data  points\n",
      "0      득점    3       4\n",
      "1      도움    2       4\n",
      "2      슈팅   23       4\n",
      "3    유효슈팅    7       4\n",
      "4  블락된 슈팅    5       4\n",
      "전북\n",
      "    label data  points\n",
      "0      득점    4       4\n",
      "1      도움    3       4\n",
      "2      슈팅   35       4\n",
      "3    유효슈팅   12       4\n",
      "4  블락된 슈팅    8       4\n",
      "제주\n",
      "    label data  points\n",
      "0      득점    4       5\n",
      "1      도움    3       5\n",
      "2      슈팅   26       5\n",
      "3    유효슈팅   12       5\n",
      "4  블락된 슈팅    3       5\n",
      "포항\n",
      "    label data  points\n",
      "0      득점    1       1\n",
      "1      도움    1       1\n",
      "2      슈팅   35       1\n",
      "3    유효슈팅    8       1\n",
      "4  블락된 슈팅    5       1\n"
     ]
    },
    {
     "name": "stderr",
     "output_type": "stream",
     "text": [
      "<string>:7: SyntaxWarning: invalid escape sequence '\\{'\n",
      "<>:7: SyntaxWarning: invalid escape sequence '\\{'\n",
      "<string>:7: SyntaxWarning: invalid escape sequence '\\{'\n",
      "<>:7: SyntaxWarning: invalid escape sequence '\\{'\n",
      "C:\\Users\\USER\\AppData\\Local\\Temp\\ipykernel_12104\\3975963116.py:7: SyntaxWarning: invalid escape sequence '\\{'\n",
      "  file_path = f\"team_data\\{name}.txt\"\n"
     ]
    }
   ],
   "source": [
    "import pandas as pd\n",
    "name_list = [\"강원\",\"광주\",\"김천\",\"대구\",\"대전\",\"서울\",\"수원FC\",\"울산\",\"안양\",\"전북\",\"제주\",\"포항\"]\n",
    "\n",
    "\n",
    "\n",
    "def Association_Analysis(name):\n",
    "    file_path = f\"team_data\\{name}.txt\" \n",
    "    df = pd.read_csv(file_path, encoding=\"utf-8\", sep=\",\")\n",
    "    return df\n",
    "\n",
    "    \n",
    "\n",
    "for i in range(0,12):\n",
    "    print(name_list[i])\n",
    "    print(Association_Analysis(name_list[i]).head())\n"
   ]
  },
  {
   "cell_type": "code",
   "execution_count": null,
   "metadata": {},
   "outputs": [],
   "source": []
  },
  {
   "cell_type": "code",
   "execution_count": null,
   "metadata": {},
   "outputs": [],
   "source": []
  },
  {
   "cell_type": "code",
   "execution_count": null,
   "metadata": {},
   "outputs": [],
   "source": []
  },
  {
   "cell_type": "code",
   "execution_count": null,
   "metadata": {},
   "outputs": [],
   "source": []
  }
 ],
 "metadata": {
  "kernelspec": {
   "display_name": "ahn",
   "language": "python",
   "name": "python3"
  },
  "language_info": {
   "codemirror_mode": {
    "name": "ipython",
    "version": 3
   },
   "file_extension": ".py",
   "mimetype": "text/x-python",
   "name": "python",
   "nbconvert_exporter": "python",
   "pygments_lexer": "ipython3",
   "version": "3.13.1"
  }
 },
 "nbformat": 4,
 "nbformat_minor": 2
}
