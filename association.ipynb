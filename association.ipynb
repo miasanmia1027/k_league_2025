{
 "cells": [
  {
   "cell_type": "code",
   "execution_count": 12,
   "metadata": {},
   "outputs": [],
   "source": [
    "from functions import make_percentage\n",
    "\n",
    "columns = [\"points\", \"win\", \"draw\", \"loss\", \"goals\", \"loss_goal\"]\n",
    "\n",
    "for col in columns:\n",
    "    make_percentage(col)"
   ]
  },
  {
   "cell_type": "code",
   "execution_count": null,
   "metadata": {},
   "outputs": [],
   "source": [
    "import pandas as pd\n",
    "from functions import every_team_make_percentage\n",
    "\n",
    "df = pd.read_csv(f\"2024_team_data/raw_data/강원.csv\")# 그냥 대표임\n",
    "\n",
    "for i in range(0,44):\n",
    "    every_team_make_percentage(df[\"label\"][i])"
   ]
  },
  {
   "cell_type": "code",
   "execution_count": 12,
   "metadata": {},
   "outputs": [
    {
     "name": "stdout",
     "output_type": "stream",
     "text": [
      "데이터 병합 완료! 'merged_data.csv'에 저장되었습니다.\n"
     ]
    }
   ],
   "source": [
    "# 데이터 결합 코드\n",
    "import pandas as pd\n",
    "import os\n",
    "\n",
    "# 팀 리스트\n",
    "team_list = [\"강원\", \"광주\", \"김천\", \"대구\", \"대전\", \"서울\", \"수원FC\", \"울산\", \"인천\", \"전북\", \"제주\", \"포항\"]\n",
    "\n",
    "# 경기 요소 데이터 불러오기\n",
    "team_data = {}\n",
    "\n",
    "for team in team_list:\n",
    "    file_path = f\"2024_team_data/team_elements/mp_every_{team}.csv\"\n",
    "    if os.path.exists(file_path):  # 파일이 있는 경우에만 로드\n",
    "        df = pd.read_csv(file_path)\n",
    "        df.set_index(\"name\", inplace=True)\n",
    "        team_data[team] = df\n",
    "\n",
    "# 승/무/패 데이터 불러오기\n",
    "score_df = pd.read_csv(\"2024_team_data/2024_score_data.csv\")\n",
    "score_df.set_index(\"name\", inplace=True)\n",
    "\n",
    "# 모든 팀의 데이터를 합침\n",
    "merged_df = pd.DataFrame()\n",
    "\n",
    "for team, df in team_data.items():\n",
    "    if team in score_df.index:\n",
    "        merged_df = pd.concat([merged_df, df.join(score_df.loc[[team]])])\n",
    "\n",
    "# 결과 저장\n",
    "merged_df.to_csv(\"2024_team_data/merged_data.csv\", encoding=\"utf-8-sig\")\n",
    "\n",
    "print(\"데이터 병합 완료! 'merged_data.csv'에 저장되었습니다.\")\n"
   ]
  },
  {
   "cell_type": "code",
   "execution_count": null,
   "metadata": {},
   "outputs": [],
   "source": []
  },
  {
   "cell_type": "code",
   "execution_count": null,
   "metadata": {},
   "outputs": [],
   "source": []
  }
 ],
 "metadata": {
  "kernelspec": {
   "display_name": "ahn",
   "language": "python",
   "name": "python3"
  },
  "language_info": {
   "codemirror_mode": {
    "name": "ipython",
    "version": 3
   },
   "file_extension": ".py",
   "mimetype": "text/x-python",
   "name": "python",
   "nbconvert_exporter": "python",
   "pygments_lexer": "ipython3",
   "version": "3.13.1"
  }
 },
 "nbformat": 4,
 "nbformat_minor": 2
}
