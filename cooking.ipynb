{
 "cells": [
  {
   "cell_type": "code",
   "execution_count": 58,
   "metadata": {},
   "outputs": [],
   "source": [
    "team_name=[\n",
    "    \"울산\",\n",
    "    \"김천\",\n",
    "    \"광원\",\n",
    "    \"수원FC\",\n",
    "    \"포항\",\n",
    "    \"서울\",\n",
    "    \"광주\",\n",
    "    \"제주\",\n",
    "    \"대전\",\n",
    "    \"전북\",\n",
    "    \"대구\",\n",
    "    \"인천\",\n",
    "]"
   ]
  },
  {
   "cell_type": "code",
   "execution_count": 59,
   "metadata": {},
   "outputs": [],
   "source": [
    "import pandas as pd\n",
    "\n",
    "#txt데이터 읽기\n",
    "울산_data=pd.read_csv(\"data_울산.txt\")\n",
    "김천_data=pd.read_csv(\"data_김천.txt\")\n",
    "광원_data=pd.read_csv(\"data_광원.txt\")\n",
    "수원FC_data=pd.read_csv(\"data_수원FC.txt\")\n",
    "포항_data=pd.read_csv(\"data_포항.txt\")\n",
    "서울_data=pd.read_csv(\"data_서울.txt\")\n",
    "광주_data=pd.read_csv(\"data_광주.txt\")\n",
    "제주_data=pd.read_csv(\"data_제주.txt\")\n",
    "대전_data=pd.read_csv(\"data_대전.txt\")\n",
    "전북_data=pd.read_csv(\"data_전북.txt\")\n",
    "대구_data=pd.read_csv(\"data_대구.txt\")\n",
    "인천_data=pd.read_csv(\"data_인천.txt\")\n",
    "\n",
    "# 울산_data['data']\n",
    "# 김천_data['data']\n",
    "# 광원_data['data']\n",
    "# 수원FC_data['data']\n",
    "# 포항_data['data']\n",
    "# 서울_data['data']\n",
    "# 광주_data['data']\n",
    "# 제주_data['data']\n",
    "# 대전_data['data']\n",
    "# 전북_data['data']\n",
    "# 대구_data['data']\n",
    "# 인천_data['data']\n",
    "\n",
    "    "
   ]
  },
  {
   "cell_type": "code",
   "execution_count": 60,
   "metadata": {},
   "outputs": [],
   "source": [
    "#','지우기 과정\n",
    "\n",
    "울산_data['data']=울산_data['data'].str.replace(',', '').astype(int)\n",
    "김천_data['data']=김천_data['data'].str.replace(',', '').astype(int)\n",
    "광원_data['data']=광원_data['data'].str.replace(',', '').astype(int)\n",
    "수원FC_data['data']=수원FC_data['data'].str.replace(',', '').astype(int)\n",
    "포항_data['data']=포항_data['data'].str.replace(',', '').astype(int)\n",
    "서울_data['data']=서울_data['data'].str.replace(',', '').astype(int)\n",
    "광주_data['data']=광주_data['data'].str.replace(',', '').astype(int)\n",
    "제주_data['data']=제주_data['data'].str.replace(',', '').astype(int)\n",
    "대전_data['data']=대전_data['data'].str.replace(',', '').astype(int)\n",
    "전북_data['data']=전북_data['data'].str.replace(',', '').astype(int)\n",
    "대구_data['data']=대구_data['data'].str.replace(',', '').astype(int)\n",
    "인천_data['data']=인천_data['data'].str.replace(',', '').astype(int)"
   ]
  },
  {
   "cell_type": "code",
   "execution_count": 65,
   "metadata": {},
   "outputs": [],
   "source": [
    "#문제 발생 내가 만든 함수에 변수를 넣는게 그 과정이 너무 불편하가\n",
    "#EX)two_check(울산_data['data'][10],울산_data['data'][20])\n",
    "\n",
    "울산=울산_data['data']\n",
    "김천=김천_data['data']\n",
    "광원=광원_data['data']\n",
    "수원FC=수원FC_data['data']\n",
    "포황=포항_data['data']\n",
    "서울=서울_data['data']\n",
    "광주=광주_data['data']\n",
    "제주=제주_data['data']\n",
    "대전=대전_data['data']\n",
    "전북=전북_data['data']\n",
    "대구=대구_data['data']\n",
    "인천=인천_data['data']\n",
    "\n"
   ]
  },
  {
   "cell_type": "code",
   "execution_count": null,
   "metadata": {},
   "outputs": [],
   "source": [
    "#2개의 변수간의 비율을 확인하는 합수 만들기\n",
    "def two_check(one,two):\n",
    "    나눗셉=one/two\n",
    "    return 나눗셉\n",
    "\n"
   ]
  },
  {
   "cell_type": "code",
   "execution_count": null,
   "metadata": {},
   "outputs": [],
   "source": []
  },
  {
   "cell_type": "code",
   "execution_count": null,
   "metadata": {},
   "outputs": [],
   "source": []
  },
  {
   "cell_type": "code",
   "execution_count": null,
   "metadata": {},
   "outputs": [],
   "source": []
  }
 ],
 "metadata": {
  "kernelspec": {
   "display_name": "py3.10",
   "language": "python",
   "name": "python3"
  },
  "language_info": {
   "codemirror_mode": {
    "name": "ipython",
    "version": 3
   },
   "file_extension": ".py",
   "mimetype": "text/x-python",
   "name": "python",
   "nbconvert_exporter": "python",
   "pygments_lexer": "ipython3",
   "version": "3.12.3"
  }
 },
 "nbformat": 4,
 "nbformat_minor": 2
}
